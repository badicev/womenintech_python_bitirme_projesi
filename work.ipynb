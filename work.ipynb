{
 "cells": [
  {
   "cell_type": "markdown",
   "metadata": {},
   "source": [
    "                                                       SistersLab Bitirme Projesi - Başak Dilara Çevik"
   ]
  },
  {
   "cell_type": "code",
   "execution_count": 88,
   "metadata": {},
   "outputs": [
    {
     "name": "stdout",
     "output_type": "stream",
     "text": [
      "patool: Extracting movies_dataset.zip ...\n",
      "patool: running D:\\7-Zip\\7z.EXE x -o. -- movies_dataset.zip\n",
      "patool: ... movies_dataset.zip extracted to `.'.\n"
     ]
    },
    {
     "data": {
      "text/plain": [
       "'.'"
      ]
     },
     "execution_count": 88,
     "metadata": {},
     "output_type": "execute_result"
    }
   ],
   "source": [
    "\n",
    "import patoolib\n",
    "patoolib.extract_archive(\"movies_dataset.zip\", outdir=\".\")"
   ]
  },
  {
   "cell_type": "code",
   "execution_count": 1,
   "metadata": {},
   "outputs": [
    {
     "name": "stdout",
     "output_type": "stream",
     "text": [
      "Tüm dosyaların isimleri değiştirildi.\n",
      "Yeni isimler: \n",
      "['movies_1.csv', 'movies_2.csv', 'movies_3.csv', 'movies_4.csv', 'movies_5.csv', 'movies_6.csv', 'movies_7.csv', 'movies_8.csv']\n"
     ]
    }
   ],
   "source": [
    "import pandas as pd   \n",
    "\n",
    "import os\n",
    "\n",
    "\n",
    "folder = r'movies_dataset/'\n",
    "count = 1\n",
    "# count increase by 1 in each iteration\n",
    "# iterate all files from a directory\n",
    "for file_name in os.listdir(folder):\n",
    "    try:\n",
    "    # Construct old file name\n",
    "        source = folder + file_name\n",
    "\n",
    "    # Adding the count to the new file name and extension\n",
    "        destination = folder + \"movies_\" + str(count) + \".csv\"\n",
    "\n",
    "    # Renaming the file\n",
    "        os.rename(source, destination)\n",
    "        count += 1\n",
    "    except:\n",
    "        pass\n",
    "print('Tüm dosyaların isimleri değiştirildi.')\n",
    "\n",
    "print('Yeni isimler: ')\n",
    "# verify the result\n",
    "res = os.listdir(folder)\n",
    "print(res)\n",
    "#Veri setlerini okuma\n",
    "for i in range(1, 9):\n",
    "    globals()['df{}'.format(i)] = pd.read_csv('movies_dataset/movies_{}.csv'.format(i), on_bad_lines='skip')\n",
    "\n",
    "\n",
    "\n",
    "\n"
   ]
  },
  {
   "cell_type": "code",
   "execution_count": 2,
   "metadata": {},
   "outputs": [
    {
     "data": {
      "text/html": [
       "<div>\n",
       "<style scoped>\n",
       "    .dataframe tbody tr th:only-of-type {\n",
       "        vertical-align: middle;\n",
       "    }\n",
       "\n",
       "    .dataframe tbody tr th {\n",
       "        vertical-align: top;\n",
       "    }\n",
       "\n",
       "    .dataframe thead th {\n",
       "        text-align: right;\n",
       "    }\n",
       "</style>\n",
       "<table border=\"1\" class=\"dataframe\">\n",
       "  <thead>\n",
       "    <tr style=\"text-align: right;\">\n",
       "      <th></th>\n",
       "      <th>oyuncu_kodu</th>\n",
       "      <th>isim</th>\n",
       "      <th>cinsiyet</th>\n",
       "    </tr>\n",
       "    <tr>\n",
       "      <th>movieid</th>\n",
       "      <th></th>\n",
       "      <th></th>\n",
       "      <th></th>\n",
       "    </tr>\n",
       "  </thead>\n",
       "  <tbody>\n",
       "    <tr>\n",
       "      <th>1672052.0</th>\n",
       "      <td>88796</td>\n",
       "      <td>Ball, Ray (I)</td>\n",
       "      <td>M</td>\n",
       "    </tr>\n",
       "    <tr>\n",
       "      <th>1672111.0</th>\n",
       "      <td>25488</td>\n",
       "      <td>Alexander, Jace</td>\n",
       "      <td>M</td>\n",
       "    </tr>\n",
       "    <tr>\n",
       "      <th>1672580.0</th>\n",
       "      <td>25753</td>\n",
       "      <td>Alexander, Matt (I)</td>\n",
       "      <td>M</td>\n",
       "    </tr>\n",
       "    <tr>\n",
       "      <th>1672716.0</th>\n",
       "      <td>132909</td>\n",
       "      <td>Berke, Ed</td>\n",
       "      <td>M</td>\n",
       "    </tr>\n",
       "    <tr>\n",
       "      <th>1672946.0</th>\n",
       "      <td>238614</td>\n",
       "      <td>Cantu, David (III)</td>\n",
       "      <td>M</td>\n",
       "    </tr>\n",
       "    <tr>\n",
       "      <th>1673647.0</th>\n",
       "      <td>149985</td>\n",
       "      <td>Bjørnsson, Fredbjørn</td>\n",
       "      <td>M</td>\n",
       "    </tr>\n",
       "    <tr>\n",
       "      <th>1673658.0</th>\n",
       "      <td>573391</td>\n",
       "      <td>Gioia, James</td>\n",
       "      <td>M</td>\n",
       "    </tr>\n",
       "    <tr>\n",
       "      <th>1673848.0</th>\n",
       "      <td>201155</td>\n",
       "      <td>Brown, Nick (IV)</td>\n",
       "      <td>M</td>\n",
       "    </tr>\n",
       "    <tr>\n",
       "      <th>1674388.0</th>\n",
       "      <td>125981</td>\n",
       "      <td>Benfield, John</td>\n",
       "      <td>M</td>\n",
       "    </tr>\n",
       "    <tr>\n",
       "      <th>1674737.0</th>\n",
       "      <td>90056</td>\n",
       "      <td>Balsam, Martin</td>\n",
       "      <td>M</td>\n",
       "    </tr>\n",
       "  </tbody>\n",
       "</table>\n",
       "</div>"
      ],
      "text/plain": [
       "           oyuncu_kodu                  isim cinsiyet\n",
       "movieid                                              \n",
       "1672052.0        88796         Ball, Ray (I)        M\n",
       "1672111.0        25488       Alexander, Jace        M\n",
       "1672580.0        25753   Alexander, Matt (I)        M\n",
       "1672716.0       132909             Berke, Ed        M\n",
       "1672946.0       238614    Cantu, David (III)        M\n",
       "1673647.0       149985  Bjørnsson, Fredbjørn        M\n",
       "1673658.0       573391          Gioia, James        M\n",
       "1673848.0       201155      Brown, Nick (IV)        M\n",
       "1674388.0       125981        Benfield, John        M\n",
       "1674737.0        90056        Balsam, Martin        M"
      ]
     },
     "execution_count": 2,
     "metadata": {},
     "output_type": "execute_result"
    }
   ],
   "source": [
    "#Veri setlerini birleştirme\n",
    "film_butunu = pd.merge(df2, df3, how='left').merge(df4, how='left').merge(df5, how='left').merge(df6, how='left').merge(df7, how='left').merge(df8, how='left')\n",
    "\n",
    "oyuncular_butunu = pd.merge(df1, df6, how='left')\n",
    "\n",
    "oyuncular = oyuncular_butunu.groupby(\"movieid\").agg({'actorid': 'first', \"name\": \"first\", \"sex\": \"first\"})\n",
    "\n",
    "oyuncular = oyuncular.rename(columns={ 'actorid': 'oyuncu_kodu', \"name\": \"isim\", \"sex\" : \"cinsiyet\"})\n",
    "\n",
    "#Film id'sine göre verileri gruplama\n",
    "film = film_butunu.groupby('movieid').agg({'title': 'first', 'country': 'first', 'genre': 'first', 'actorid': list, 'language': list,\n",
    " 'rank': 'first', 'votes' : 'mean', 'year': 'first', 'leading': 'first', 'name': 'first'})\n",
    "\n",
    "\n",
    "film = film.rename(columns={ 'title': 'baslik', 'country': 'ulke', 'genre': 'tur', 'actorid': 'oyuncu_id', 'language': 'dil', 'rank': 'puan', 'votes' : 'oy_sayisi', 'year': 'yil', 'leading': 'basrol', 'name': 'sirket_adi'})\n",
    "\n",
    "\n",
    "\n",
    "oyuncular.head(10)\n",
    "\n",
    "\n",
    "#dist yok."
   ]
  },
  {
   "cell_type": "code",
   "execution_count": 3,
   "metadata": {},
   "outputs": [
    {
     "data": {
      "text/html": [
       "<div>\n",
       "<style scoped>\n",
       "    .dataframe tbody tr th:only-of-type {\n",
       "        vertical-align: middle;\n",
       "    }\n",
       "\n",
       "    .dataframe tbody tr th {\n",
       "        vertical-align: top;\n",
       "    }\n",
       "\n",
       "    .dataframe thead th {\n",
       "        text-align: right;\n",
       "    }\n",
       "</style>\n",
       "<table border=\"1\" class=\"dataframe\">\n",
       "  <thead>\n",
       "    <tr style=\"text-align: right;\">\n",
       "      <th></th>\n",
       "      <th>baslik</th>\n",
       "      <th>ulke</th>\n",
       "      <th>tur</th>\n",
       "      <th>oyuncu_id</th>\n",
       "      <th>dil</th>\n",
       "      <th>puan</th>\n",
       "      <th>oy_sayisi</th>\n",
       "      <th>yil</th>\n",
       "      <th>basrol</th>\n",
       "      <th>sirket_adi</th>\n",
       "    </tr>\n",
       "    <tr>\n",
       "      <th>movieid</th>\n",
       "      <th></th>\n",
       "      <th></th>\n",
       "      <th></th>\n",
       "      <th></th>\n",
       "      <th></th>\n",
       "      <th></th>\n",
       "      <th></th>\n",
       "      <th></th>\n",
       "      <th></th>\n",
       "      <th></th>\n",
       "    </tr>\n",
       "  </thead>\n",
       "  <tbody>\n",
       "    <tr>\n",
       "      <th>1672052</th>\n",
       "      <td>'Breaker' Morant (1980)</td>\n",
       "      <td>Australia</td>\n",
       "      <td>Drama</td>\n",
       "      <td>[88796.0, 88796.0, 88796.0, 88796.0, 88848.0, ...</td>\n",
       "      <td>[Afrikaans, Afrikaans, Afrikaans, Afrikaans, A...</td>\n",
       "      <td>7.8</td>\n",
       "      <td>8111.0</td>\n",
       "      <td>1980</td>\n",
       "      <td>20.0</td>\n",
       "      <td>7 Network [au]</td>\n",
       "    </tr>\n",
       "    <tr>\n",
       "      <th>1672111</th>\n",
       "      <td>'Crocodile' Dundee II (1988)</td>\n",
       "      <td>Australia</td>\n",
       "      <td>Action</td>\n",
       "      <td>[25488.0, 25488.0, 45936.0, 45936.0, 62300.0, ...</td>\n",
       "      <td>[English, English, English, English, English, ...</td>\n",
       "      <td>5.3</td>\n",
       "      <td>32183.0</td>\n",
       "      <td>1988</td>\n",
       "      <td>39.0</td>\n",
       "      <td>Paramount Pictures [us]</td>\n",
       "    </tr>\n",
       "    <tr>\n",
       "      <th>1672580</th>\n",
       "      <td>'Til There Was You (1997)</td>\n",
       "      <td>USA</td>\n",
       "      <td>Comedy</td>\n",
       "      <td>[25753.0, 25753.0, 50592.0, 50592.0, 59130.0, ...</td>\n",
       "      <td>[English, English, English, English, English, ...</td>\n",
       "      <td>4.4</td>\n",
       "      <td>1894.0</td>\n",
       "      <td>1997</td>\n",
       "      <td>22.0</td>\n",
       "      <td>Lakeshore Entertainment [us]</td>\n",
       "    </tr>\n",
       "    <tr>\n",
       "      <th>1672716</th>\n",
       "      <td>'night, Mother (1986)</td>\n",
       "      <td>USA</td>\n",
       "      <td>Drama</td>\n",
       "      <td>[132909.0, 132909.0, 132909.0, 816535.0, 81653...</td>\n",
       "      <td>[English, English, English, English, English, ...</td>\n",
       "      <td>7.0</td>\n",
       "      <td>1255.0</td>\n",
       "      <td>1986</td>\n",
       "      <td>3.0</td>\n",
       "      <td>Aaron Spelling Productions [us]</td>\n",
       "    </tr>\n",
       "    <tr>\n",
       "      <th>1672946</th>\n",
       "      <td>...And Justice for All (2014)</td>\n",
       "      <td>USA</td>\n",
       "      <td>Action</td>\n",
       "      <td>[238614.0, 637279.0, 1094968.0, 1968842.0, 238...</td>\n",
       "      <td>[English, English, English, English, English, ...</td>\n",
       "      <td>NaN</td>\n",
       "      <td>NaN</td>\n",
       "      <td>2014</td>\n",
       "      <td>2.0</td>\n",
       "      <td>Grindhouse Films [us]</td>\n",
       "    </tr>\n",
       "  </tbody>\n",
       "</table>\n",
       "</div>"
      ],
      "text/plain": [
       "                                baslik       ulke     tur  \\\n",
       "movieid                                                     \n",
       "1672052        'Breaker' Morant (1980)  Australia   Drama   \n",
       "1672111   'Crocodile' Dundee II (1988)  Australia  Action   \n",
       "1672580      'Til There Was You (1997)        USA  Comedy   \n",
       "1672716          'night, Mother (1986)        USA   Drama   \n",
       "1672946  ...And Justice for All (2014)        USA  Action   \n",
       "\n",
       "                                                 oyuncu_id  \\\n",
       "movieid                                                      \n",
       "1672052  [88796.0, 88796.0, 88796.0, 88796.0, 88848.0, ...   \n",
       "1672111  [25488.0, 25488.0, 45936.0, 45936.0, 62300.0, ...   \n",
       "1672580  [25753.0, 25753.0, 50592.0, 50592.0, 59130.0, ...   \n",
       "1672716  [132909.0, 132909.0, 132909.0, 816535.0, 81653...   \n",
       "1672946  [238614.0, 637279.0, 1094968.0, 1968842.0, 238...   \n",
       "\n",
       "                                                       dil  puan  oy_sayisi  \\\n",
       "movieid                                                                       \n",
       "1672052  [Afrikaans, Afrikaans, Afrikaans, Afrikaans, A...   7.8     8111.0   \n",
       "1672111  [English, English, English, English, English, ...   5.3    32183.0   \n",
       "1672580  [English, English, English, English, English, ...   4.4     1894.0   \n",
       "1672716  [English, English, English, English, English, ...   7.0     1255.0   \n",
       "1672946  [English, English, English, English, English, ...   NaN        NaN   \n",
       "\n",
       "          yil  basrol                       sirket_adi  \n",
       "movieid                                                 \n",
       "1672052  1980    20.0                   7 Network [au]  \n",
       "1672111  1988    39.0          Paramount Pictures [us]  \n",
       "1672580  1997    22.0     Lakeshore Entertainment [us]  \n",
       "1672716  1986     3.0  Aaron Spelling Productions [us]  \n",
       "1672946  2014     2.0            Grindhouse Films [us]  "
      ]
     },
     "execution_count": 3,
     "metadata": {},
     "output_type": "execute_result"
    }
   ],
   "source": [
    "film.head()"
   ]
  },
  {
   "cell_type": "code",
   "execution_count": 4,
   "metadata": {},
   "outputs": [
    {
     "data": {
      "text/html": [
       "<div>\n",
       "<style scoped>\n",
       "    .dataframe tbody tr th:only-of-type {\n",
       "        vertical-align: middle;\n",
       "    }\n",
       "\n",
       "    .dataframe tbody tr th {\n",
       "        vertical-align: top;\n",
       "    }\n",
       "\n",
       "    .dataframe thead th {\n",
       "        text-align: right;\n",
       "    }\n",
       "</style>\n",
       "<table border=\"1\" class=\"dataframe\">\n",
       "  <thead>\n",
       "    <tr style=\"text-align: right;\">\n",
       "      <th></th>\n",
       "      <th>Eksik Verilerin Sayısı</th>\n",
       "      <th>% Değeri</th>\n",
       "    </tr>\n",
       "  </thead>\n",
       "  <tbody>\n",
       "    <tr>\n",
       "      <th>baslik</th>\n",
       "      <td>0</td>\n",
       "      <td>0.000000</td>\n",
       "    </tr>\n",
       "    <tr>\n",
       "      <th>ulke</th>\n",
       "      <td>0</td>\n",
       "      <td>0.000000</td>\n",
       "    </tr>\n",
       "    <tr>\n",
       "      <th>tur</th>\n",
       "      <td>15</td>\n",
       "      <td>0.391850</td>\n",
       "    </tr>\n",
       "    <tr>\n",
       "      <th>oyuncu_id</th>\n",
       "      <td>0</td>\n",
       "      <td>0.000000</td>\n",
       "    </tr>\n",
       "    <tr>\n",
       "      <th>dil</th>\n",
       "      <td>0</td>\n",
       "      <td>0.000000</td>\n",
       "    </tr>\n",
       "    <tr>\n",
       "      <th>puan</th>\n",
       "      <td>55</td>\n",
       "      <td>1.436782</td>\n",
       "    </tr>\n",
       "    <tr>\n",
       "      <th>oy_sayisi</th>\n",
       "      <td>57</td>\n",
       "      <td>1.489028</td>\n",
       "    </tr>\n",
       "    <tr>\n",
       "      <th>yil</th>\n",
       "      <td>0</td>\n",
       "      <td>0.000000</td>\n",
       "    </tr>\n",
       "    <tr>\n",
       "      <th>basrol</th>\n",
       "      <td>31</td>\n",
       "      <td>0.809822</td>\n",
       "    </tr>\n",
       "    <tr>\n",
       "      <th>sirket_adi</th>\n",
       "      <td>64</td>\n",
       "      <td>1.671891</td>\n",
       "    </tr>\n",
       "  </tbody>\n",
       "</table>\n",
       "</div>"
      ],
      "text/plain": [
       "            Eksik Verilerin Sayısı  % Değeri\n",
       "baslik                           0  0.000000\n",
       "ulke                             0  0.000000\n",
       "tur                             15  0.391850\n",
       "oyuncu_id                        0  0.000000\n",
       "dil                              0  0.000000\n",
       "puan                            55  1.436782\n",
       "oy_sayisi                       57  1.489028\n",
       "yil                              0  0.000000\n",
       "basrol                          31  0.809822\n",
       "sirket_adi                      64  1.671891"
      ]
     },
     "execution_count": 4,
     "metadata": {},
     "output_type": "execute_result"
    }
   ],
   "source": [
    "def eksik_verilerim(df):\n",
    "    eksik_veriler = df.isnull().sum()\n",
    "    eksik_veriler_yuzde = 100 * df.isnull().sum()/len(df)\n",
    "    eksik_veriler_tablo = pd.concat([eksik_veriler, eksik_veriler_yuzde], axis=1)\n",
    "    eksik_veriler_tablo_sonuc = eksik_veriler_tablo.rename(\n",
    "    columns = {0 : 'Eksik Verilerin Sayısı', 1 : '% Değeri'})\n",
    "    return eksik_veriler_tablo_sonuc\n",
    "\n",
    "eksik_verilerim(film)   "
   ]
  },
  {
   "cell_type": "code",
   "execution_count": 5,
   "metadata": {},
   "outputs": [
    {
     "data": {
      "text/html": [
       "<div>\n",
       "<style scoped>\n",
       "    .dataframe tbody tr th:only-of-type {\n",
       "        vertical-align: middle;\n",
       "    }\n",
       "\n",
       "    .dataframe tbody tr th {\n",
       "        vertical-align: top;\n",
       "    }\n",
       "\n",
       "    .dataframe thead th {\n",
       "        text-align: right;\n",
       "    }\n",
       "</style>\n",
       "<table border=\"1\" class=\"dataframe\">\n",
       "  <thead>\n",
       "    <tr style=\"text-align: right;\">\n",
       "      <th></th>\n",
       "      <th>Eksik Verilerin Sayısı</th>\n",
       "      <th>% Değeri</th>\n",
       "    </tr>\n",
       "  </thead>\n",
       "  <tbody>\n",
       "    <tr>\n",
       "      <th>baslik</th>\n",
       "      <td>0</td>\n",
       "      <td>0.0</td>\n",
       "    </tr>\n",
       "    <tr>\n",
       "      <th>ulke</th>\n",
       "      <td>0</td>\n",
       "      <td>0.0</td>\n",
       "    </tr>\n",
       "    <tr>\n",
       "      <th>tur</th>\n",
       "      <td>0</td>\n",
       "      <td>0.0</td>\n",
       "    </tr>\n",
       "    <tr>\n",
       "      <th>oyuncu_id</th>\n",
       "      <td>0</td>\n",
       "      <td>0.0</td>\n",
       "    </tr>\n",
       "    <tr>\n",
       "      <th>dil</th>\n",
       "      <td>0</td>\n",
       "      <td>0.0</td>\n",
       "    </tr>\n",
       "    <tr>\n",
       "      <th>puan</th>\n",
       "      <td>0</td>\n",
       "      <td>0.0</td>\n",
       "    </tr>\n",
       "    <tr>\n",
       "      <th>oy_sayisi</th>\n",
       "      <td>0</td>\n",
       "      <td>0.0</td>\n",
       "    </tr>\n",
       "    <tr>\n",
       "      <th>yil</th>\n",
       "      <td>0</td>\n",
       "      <td>0.0</td>\n",
       "    </tr>\n",
       "    <tr>\n",
       "      <th>basrol</th>\n",
       "      <td>0</td>\n",
       "      <td>0.0</td>\n",
       "    </tr>\n",
       "    <tr>\n",
       "      <th>sirket_adi</th>\n",
       "      <td>0</td>\n",
       "      <td>0.0</td>\n",
       "    </tr>\n",
       "  </tbody>\n",
       "</table>\n",
       "</div>"
      ],
      "text/plain": [
       "            Eksik Verilerin Sayısı  % Değeri\n",
       "baslik                           0       0.0\n",
       "ulke                             0       0.0\n",
       "tur                              0       0.0\n",
       "oyuncu_id                        0       0.0\n",
       "dil                              0       0.0\n",
       "puan                             0       0.0\n",
       "oy_sayisi                        0       0.0\n",
       "yil                              0       0.0\n",
       "basrol                           0       0.0\n",
       "sirket_adi                       0       0.0"
      ]
     },
     "execution_count": 5,
     "metadata": {},
     "output_type": "execute_result"
    }
   ],
   "source": [
    "film = film.dropna()\n",
    "\n",
    "\n",
    "eksik_verilerim(film)\n"
   ]
  },
  {
   "cell_type": "code",
   "execution_count": 6,
   "metadata": {},
   "outputs": [
    {
     "data": {
      "text/html": [
       "<div>\n",
       "<style scoped>\n",
       "    .dataframe tbody tr th:only-of-type {\n",
       "        vertical-align: middle;\n",
       "    }\n",
       "\n",
       "    .dataframe tbody tr th {\n",
       "        vertical-align: top;\n",
       "    }\n",
       "\n",
       "    .dataframe thead th {\n",
       "        text-align: right;\n",
       "    }\n",
       "</style>\n",
       "<table border=\"1\" class=\"dataframe\">\n",
       "  <thead>\n",
       "    <tr style=\"text-align: right;\">\n",
       "      <th></th>\n",
       "      <th>Eksik Verilerin Sayısı</th>\n",
       "      <th>% Değeri</th>\n",
       "    </tr>\n",
       "  </thead>\n",
       "  <tbody>\n",
       "    <tr>\n",
       "      <th>oyuncu_kodu</th>\n",
       "      <td>0</td>\n",
       "      <td>0.0</td>\n",
       "    </tr>\n",
       "    <tr>\n",
       "      <th>isim</th>\n",
       "      <td>0</td>\n",
       "      <td>0.0</td>\n",
       "    </tr>\n",
       "    <tr>\n",
       "      <th>cinsiyet</th>\n",
       "      <td>0</td>\n",
       "      <td>0.0</td>\n",
       "    </tr>\n",
       "  </tbody>\n",
       "</table>\n",
       "</div>"
      ],
      "text/plain": [
       "             Eksik Verilerin Sayısı  % Değeri\n",
       "oyuncu_kodu                       0       0.0\n",
       "isim                              0       0.0\n",
       "cinsiyet                          0       0.0"
      ]
     },
     "execution_count": 6,
     "metadata": {},
     "output_type": "execute_result"
    }
   ],
   "source": [
    "oyuncular = oyuncular.dropna()\n",
    "eksik_verilerim(oyuncular)"
   ]
  },
  {
   "cell_type": "code",
   "execution_count": 7,
   "metadata": {},
   "outputs": [
    {
     "name": "stdout",
     "output_type": "stream",
     "text": [
      "<class 'pandas.core.frame.DataFrame'>\n",
      "Int64Index: 3714 entries, 1672052 to 2593313\n",
      "Data columns (total 10 columns):\n",
      " #   Column      Non-Null Count  Dtype  \n",
      "---  ------      --------------  -----  \n",
      " 0   baslik      3714 non-null   object \n",
      " 1   ulke        3714 non-null   object \n",
      " 2   tur         3714 non-null   object \n",
      " 3   oyuncu_id   3714 non-null   object \n",
      " 4   dil         3714 non-null   object \n",
      " 5   puan        3714 non-null   float64\n",
      " 6   oy_sayisi   3714 non-null   float64\n",
      " 7   yil         3714 non-null   int64  \n",
      " 8   basrol      3714 non-null   float64\n",
      " 9   sirket_adi  3714 non-null   object \n",
      "dtypes: float64(3), int64(1), object(6)\n",
      "memory usage: 319.2+ KB\n"
     ]
    }
   ],
   "source": [
    "film.info()"
   ]
  },
  {
   "cell_type": "code",
   "execution_count": 8,
   "metadata": {},
   "outputs": [
    {
     "name": "stdout",
     "output_type": "stream",
     "text": [
      "<class 'pandas.core.frame.DataFrame'>\n",
      "Float64Index: 3798 entries, 1672052.0 to 2593313.0\n",
      "Data columns (total 3 columns):\n",
      " #   Column       Non-Null Count  Dtype \n",
      "---  ------       --------------  ----- \n",
      " 0   oyuncu_kodu  3798 non-null   int64 \n",
      " 1   isim         3798 non-null   object\n",
      " 2   cinsiyet     3798 non-null   object\n",
      "dtypes: int64(1), object(2)\n",
      "memory usage: 118.7+ KB\n"
     ]
    }
   ],
   "source": [
    "oyuncular.info()"
   ]
  },
  {
   "cell_type": "code",
   "execution_count": 9,
   "metadata": {},
   "outputs": [
    {
     "data": {
      "text/plain": [
       "(3714, 10)"
      ]
     },
     "execution_count": 9,
     "metadata": {},
     "output_type": "execute_result"
    }
   ],
   "source": [
    "film.shape"
   ]
  },
  {
   "cell_type": "code",
   "execution_count": 10,
   "metadata": {},
   "outputs": [
    {
     "data": {
      "text/plain": [
       "(3798, 3)"
      ]
     },
     "execution_count": 10,
     "metadata": {},
     "output_type": "execute_result"
    }
   ],
   "source": [
    "oyuncular.shape"
   ]
  },
  {
   "cell_type": "code",
   "execution_count": 11,
   "metadata": {},
   "outputs": [
    {
     "data": {
      "text/html": [
       "<div>\n",
       "<style scoped>\n",
       "    .dataframe tbody tr th:only-of-type {\n",
       "        vertical-align: middle;\n",
       "    }\n",
       "\n",
       "    .dataframe tbody tr th {\n",
       "        vertical-align: top;\n",
       "    }\n",
       "\n",
       "    .dataframe thead th {\n",
       "        text-align: right;\n",
       "    }\n",
       "</style>\n",
       "<table border=\"1\" class=\"dataframe\">\n",
       "  <thead>\n",
       "    <tr style=\"text-align: right;\">\n",
       "      <th></th>\n",
       "      <th>count</th>\n",
       "      <th>mean</th>\n",
       "      <th>std</th>\n",
       "      <th>min</th>\n",
       "      <th>25%</th>\n",
       "      <th>50%</th>\n",
       "      <th>75%</th>\n",
       "      <th>max</th>\n",
       "    </tr>\n",
       "  </thead>\n",
       "  <tbody>\n",
       "    <tr>\n",
       "      <th>puan</th>\n",
       "      <td>3714.0</td>\n",
       "      <td>6.399381</td>\n",
       "      <td>1.139368</td>\n",
       "      <td>1.8</td>\n",
       "      <td>5.7</td>\n",
       "      <td>6.5</td>\n",
       "      <td>7.2</td>\n",
       "      <td>9.3</td>\n",
       "    </tr>\n",
       "    <tr>\n",
       "      <th>oy_sayisi</th>\n",
       "      <td>3714.0</td>\n",
       "      <td>28084.978191</td>\n",
       "      <td>63955.770100</td>\n",
       "      <td>5.0</td>\n",
       "      <td>1930.0</td>\n",
       "      <td>7169.5</td>\n",
       "      <td>26013.5</td>\n",
       "      <td>998823.0</td>\n",
       "    </tr>\n",
       "    <tr>\n",
       "      <th>yil</th>\n",
       "      <td>3714.0</td>\n",
       "      <td>1985.780022</td>\n",
       "      <td>17.264403</td>\n",
       "      <td>1907.0</td>\n",
       "      <td>1982.0</td>\n",
       "      <td>1994.0</td>\n",
       "      <td>1997.0</td>\n",
       "      <td>2011.0</td>\n",
       "    </tr>\n",
       "    <tr>\n",
       "      <th>basrol</th>\n",
       "      <td>3714.0</td>\n",
       "      <td>17.520732</td>\n",
       "      <td>16.657211</td>\n",
       "      <td>0.0</td>\n",
       "      <td>5.0</td>\n",
       "      <td>13.0</td>\n",
       "      <td>25.0</td>\n",
       "      <td>154.0</td>\n",
       "    </tr>\n",
       "  </tbody>\n",
       "</table>\n",
       "</div>"
      ],
      "text/plain": [
       "            count          mean           std     min     25%     50%  \\\n",
       "puan       3714.0      6.399381      1.139368     1.8     5.7     6.5   \n",
       "oy_sayisi  3714.0  28084.978191  63955.770100     5.0  1930.0  7169.5   \n",
       "yil        3714.0   1985.780022     17.264403  1907.0  1982.0  1994.0   \n",
       "basrol     3714.0     17.520732     16.657211     0.0     5.0    13.0   \n",
       "\n",
       "               75%       max  \n",
       "puan           7.2       9.3  \n",
       "oy_sayisi  26013.5  998823.0  \n",
       "yil         1997.0    2011.0  \n",
       "basrol        25.0     154.0  "
      ]
     },
     "execution_count": 11,
     "metadata": {},
     "output_type": "execute_result"
    }
   ],
   "source": [
    "#Sütunların dağılımı\n",
    "film.describe().T\n"
   ]
  },
  {
   "cell_type": "code",
   "execution_count": 12,
   "metadata": {},
   "outputs": [
    {
     "data": {
      "text/html": [
       "<div>\n",
       "<style scoped>\n",
       "    .dataframe tbody tr th:only-of-type {\n",
       "        vertical-align: middle;\n",
       "    }\n",
       "\n",
       "    .dataframe tbody tr th {\n",
       "        vertical-align: top;\n",
       "    }\n",
       "\n",
       "    .dataframe thead th {\n",
       "        text-align: right;\n",
       "    }\n",
       "</style>\n",
       "<table border=\"1\" class=\"dataframe\">\n",
       "  <thead>\n",
       "    <tr style=\"text-align: right;\">\n",
       "      <th></th>\n",
       "      <th>count</th>\n",
       "      <th>mean</th>\n",
       "      <th>std</th>\n",
       "      <th>min</th>\n",
       "      <th>25%</th>\n",
       "      <th>50%</th>\n",
       "      <th>75%</th>\n",
       "      <th>max</th>\n",
       "    </tr>\n",
       "  </thead>\n",
       "  <tbody>\n",
       "    <tr>\n",
       "      <th>oyuncu_kodu</th>\n",
       "      <td>3798.0</td>\n",
       "      <td>127591.18931</td>\n",
       "      <td>207430.01525</td>\n",
       "      <td>4.0</td>\n",
       "      <td>30503.0</td>\n",
       "      <td>70215.5</td>\n",
       "      <td>148618.0</td>\n",
       "      <td>2579564.0</td>\n",
       "    </tr>\n",
       "  </tbody>\n",
       "</table>\n",
       "</div>"
      ],
      "text/plain": [
       "              count          mean           std  min      25%      50%  \\\n",
       "oyuncu_kodu  3798.0  127591.18931  207430.01525  4.0  30503.0  70215.5   \n",
       "\n",
       "                  75%        max  \n",
       "oyuncu_kodu  148618.0  2579564.0  "
      ]
     },
     "execution_count": 12,
     "metadata": {},
     "output_type": "execute_result"
    }
   ],
   "source": [
    "oyuncular.describe().T"
   ]
  },
  {
   "cell_type": "markdown",
   "metadata": {},
   "source": [
    "**Ülkelere göre film sayısı ve görselleştirilmesi**"
   ]
  },
  {
   "cell_type": "code",
   "execution_count": 15,
   "metadata": {},
   "outputs": [
    {
     "ename": "KeyError",
     "evalue": "['country']",
     "output_type": "error",
     "traceback": [
      "\u001b[1;31m---------------------------------------------------------------------------\u001b[0m",
      "\u001b[1;31mKeyError\u001b[0m                                  Traceback (most recent call last)",
      "Cell \u001b[1;32mIn [15], line 1\u001b[0m\n\u001b[1;32m----> 1\u001b[0m film\u001b[39m.\u001b[39;49mdropna(subset\u001b[39m=\u001b[39;49m[\u001b[39m\"\u001b[39;49m\u001b[39mcountry\u001b[39;49m\u001b[39m\"\u001b[39;49m], axis\u001b[39m=\u001b[39;49m\u001b[39m0\u001b[39;49m, inplace\u001b[39m=\u001b[39;49m\u001b[39mTrue\u001b[39;49;00m)\n\u001b[0;32m      2\u001b[0m film_ulke \u001b[39m=\u001b[39m film\u001b[39m.\u001b[39mgroupby(\u001b[39m\"\u001b[39m\u001b[39mcountry\u001b[39m\u001b[39m\"\u001b[39m)\u001b[39m.\u001b[39msize()\n\u001b[0;32m      4\u001b[0m film_ulke\u001b[39m.\u001b[39msort_values(ascending\u001b[39m=\u001b[39m\u001b[39mFalse\u001b[39;00m)\u001b[39m.\u001b[39mhead(\u001b[39m10\u001b[39m)\n",
      "File \u001b[1;32mc:\\Users\\basak\\AppData\\Local\\Programs\\Python\\Python38\\lib\\site-packages\\pandas\\util\\_decorators.py:311\u001b[0m, in \u001b[0;36mdeprecate_nonkeyword_arguments.<locals>.decorate.<locals>.wrapper\u001b[1;34m(*args, **kwargs)\u001b[0m\n\u001b[0;32m    305\u001b[0m \u001b[39mif\u001b[39;00m \u001b[39mlen\u001b[39m(args) \u001b[39m>\u001b[39m num_allow_args:\n\u001b[0;32m    306\u001b[0m     warnings\u001b[39m.\u001b[39mwarn(\n\u001b[0;32m    307\u001b[0m         msg\u001b[39m.\u001b[39mformat(arguments\u001b[39m=\u001b[39marguments),\n\u001b[0;32m    308\u001b[0m         \u001b[39mFutureWarning\u001b[39;00m,\n\u001b[0;32m    309\u001b[0m         stacklevel\u001b[39m=\u001b[39mstacklevel,\n\u001b[0;32m    310\u001b[0m     )\n\u001b[1;32m--> 311\u001b[0m \u001b[39mreturn\u001b[39;00m func(\u001b[39m*\u001b[39;49margs, \u001b[39m*\u001b[39;49m\u001b[39m*\u001b[39;49mkwargs)\n",
      "File \u001b[1;32mc:\\Users\\basak\\AppData\\Local\\Programs\\Python\\Python38\\lib\\site-packages\\pandas\\core\\frame.py:6002\u001b[0m, in \u001b[0;36mDataFrame.dropna\u001b[1;34m(self, axis, how, thresh, subset, inplace)\u001b[0m\n\u001b[0;32m   6000\u001b[0m     check \u001b[39m=\u001b[39m indices \u001b[39m==\u001b[39m \u001b[39m-\u001b[39m\u001b[39m1\u001b[39m\n\u001b[0;32m   6001\u001b[0m     \u001b[39mif\u001b[39;00m check\u001b[39m.\u001b[39many():\n\u001b[1;32m-> 6002\u001b[0m         \u001b[39mraise\u001b[39;00m \u001b[39mKeyError\u001b[39;00m(np\u001b[39m.\u001b[39marray(subset)[check]\u001b[39m.\u001b[39mtolist())\n\u001b[0;32m   6003\u001b[0m     agg_obj \u001b[39m=\u001b[39m \u001b[39mself\u001b[39m\u001b[39m.\u001b[39mtake(indices, axis\u001b[39m=\u001b[39magg_axis)\n\u001b[0;32m   6005\u001b[0m \u001b[39mif\u001b[39;00m thresh \u001b[39mis\u001b[39;00m \u001b[39mnot\u001b[39;00m \u001b[39mNone\u001b[39;00m:\n",
      "\u001b[1;31mKeyError\u001b[0m: ['country']"
     ]
    }
   ],
   "source": [
    "film.dropna(subset=[\"country\"], axis=0, inplace=True)\n",
    "film_ulke = film.groupby(\"country\").size()\n",
    "\n",
    "film_ulke.sort_values(ascending=False).head(10)\n",
    "\n",
    "pd.set_option('display.max_rows', None)\n",
    "with open('film_ulke.txt', 'w') as f:\n",
    "    f.write(str(film_ulke.sort_values(ascending=False)))\n"
   ]
  },
  {
   "cell_type": "code",
   "execution_count": null,
   "metadata": {},
   "outputs": [],
   "source": [
    "%matplotlib inline"
   ]
  },
  {
   "cell_type": "markdown",
   "metadata": {},
   "source": [
    "*  Pie-chart için bir fonksiyon tanımlayalım."
   ]
  },
  {
   "cell_type": "code",
   "execution_count": null,
   "metadata": {},
   "outputs": [],
   "source": [
    "import matplotlib.pyplot as plt\n",
    "def ilk_10_ciz(x, y, title):\n",
    "    \n",
    "    colors = ['yellowgreen','red','gold','lightskyblue','lightcoral','blue','pink', 'darkgreen','yellow','grey','violet','magenta','cyan']\n",
    "    porcent = 100.*y/y.sum()\n",
    "\n",
    "    patches, texts = plt.pie(y, colors=colors, shadow = True, startangle=90, radius=1.2, rotatelabels = True, textprops=dict(color=\"black\"), \n",
    "    wedgeprops = { 'linewidth' :0.9, 'edgecolor' : 'white' }, labels=['{0} - {1:1.2f} %'.format(i,j) for i,j in zip(x, porcent)])\n",
    "\n",
    "    labels = ['{0} - {1:1.2f} %'.format(i,j) for i,j in zip(x, porcent)]\n",
    "\n",
    "    sort_legend = True\n",
    "    if sort_legend:\n",
    "        patches, labels, dummy =  zip(*sorted(zip(patches, labels, y),\n",
    "                                          key=lambda x: x[2],\n",
    "                                          reverse=True))\n",
    "\n",
    "    plt.legend(patches, labels, loc='best', bbox_to_anchor=(-0.1, 1.),\n",
    "           fontsize=8)\n",
    "\n",
    "    plt.axis('equal')\n",
    "    plt.text(0, 0, title, fontsize=20, color='black', ha='center', va='center')\n",
    "\n",
    "\n"
   ]
  },
  {
   "cell_type": "code",
   "execution_count": 14,
   "metadata": {},
   "outputs": [
    {
     "ename": "NameError",
     "evalue": "name 'film_ulke' is not defined",
     "output_type": "error",
     "traceback": [
      "\u001b[1;31m---------------------------------------------------------------------------\u001b[0m",
      "\u001b[1;31mNameError\u001b[0m                                 Traceback (most recent call last)",
      "Cell \u001b[1;32mIn [14], line 1\u001b[0m\n\u001b[1;32m----> 1\u001b[0m x \u001b[39m=\u001b[39m film_ulke\u001b[39m.\u001b[39msort_values(ascending\u001b[39m=\u001b[39m\u001b[39mFalse\u001b[39;00m)\u001b[39m.\u001b[39mhead(\u001b[39m10\u001b[39m)\u001b[39m.\u001b[39mindex\n\u001b[0;32m      2\u001b[0m y \u001b[39m=\u001b[39m film_ulke\u001b[39m.\u001b[39msort_values(ascending\u001b[39m=\u001b[39m\u001b[39mFalse\u001b[39;00m)\u001b[39m.\u001b[39mhead(\u001b[39m10\u001b[39m)\u001b[39m.\u001b[39mvalues\n\u001b[0;32m      3\u001b[0m ilk_10_ciz(x, y, \u001b[39m'\u001b[39m\u001b[39mİlk 10 ülke\u001b[39m\u001b[39m'\u001b[39m)\n",
      "\u001b[1;31mNameError\u001b[0m: name 'film_ulke' is not defined"
     ]
    }
   ],
   "source": [
    "x = film_ulke.sort_values(ascending=False).head(10).index\n",
    "y = film_ulke.sort_values(ascending=False).head(10).values\n",
    "ilk_10_ciz(x, y, 'İlk 10 ülke')\n",
    "plt.savefig('filmlerin_ulkelere_gore_dagilimi.png', bbox_inches='tight', dpi=600)"
   ]
  },
  {
   "cell_type": "markdown",
   "metadata": {},
   "source": [
    "**Aktörlerin oynadığı film sayısı**"
   ]
  },
  {
   "cell_type": "code",
   "execution_count": 12,
   "metadata": {},
   "outputs": [
    {
     "data": {
      "text/plain": [
       "name                 genre    \n",
       "Welker, Frank        Family       30\n",
       "                     Adventure    29\n",
       "                     Comedy       28\n",
       "Duvall, Robert       Drama        25\n",
       "De Niro, Robert      Drama        24\n",
       "Jackson, Samuel L.   Drama        23\n",
       "Aykroyd, Dan         Comedy       22\n",
       "Cusack, Joan         Comedy       21\n",
       "Keitel, Harvey (I)   Drama        21\n",
       "Nicholson, Jack (I)  Drama        21\n",
       "Name: genre, dtype: int64"
      ]
     },
     "execution_count": 12,
     "metadata": {},
     "output_type": "execute_result"
    }
   ],
   "source": [
    "#aktor = pd.concat([df1, df6])\n",
    "#aktor.set_index(\"actorid\", inplace=True)\n",
    "\n",
    "\n",
    "aktor = df1.join(df6.set_index(\"actorid\"), on=\"actorid\")\n",
    "aktor.set_index(aktor[\"actorid\"], inplace=True)\n",
    "\n",
    "aktor.index.value_counts().sort_values(ascending=False).head(10)\n",
    "\n",
    "with open('aktor.txt', 'w', encoding='utf-8') as f:\n",
    "    f.write(str(aktor.index.value_counts().sort_values(ascending=False)))\n",
    "\n",
    "aktor.head(10)\n",
    "\n",
    "aktor_tur = aktor.join(df3.set_index(\"movieid\"), on=\"movieid\")\n",
    "\n",
    "aktor_tur = aktor_tur.groupby(\"name\")['genre'].value_counts()\n",
    "aktor_tur.sort_values(ascending=False).head(10)\n"
   ]
  },
  {
   "cell_type": "markdown",
   "metadata": {},
   "source": [
    "* En çok filmde oynayan ilk 10 oyuncuyu çizmek için:"
   ]
  },
  {
   "cell_type": "code",
   "execution_count": null,
   "metadata": {},
   "outputs": [],
   "source": [
    "x = aktor.index.value_counts().sort_values(ascending=False).head(10).index\n",
    "y = aktor.index.value_counts().sort_values(ascending=False).head(10).values\n",
    "ilk_10_ciz(x, y, 'En çok filmde oynayan 10 aktör')\n",
    "plt.savefig('en_cok_filmde_oynayan.png', bbox_inches='tight', dpi=600)"
   ]
  },
  {
   "cell_type": "markdown",
   "metadata": {},
   "source": [
    "**Aktörlerin oynadığı film türleri**"
   ]
  },
  {
   "cell_type": "code",
   "execution_count": null,
   "metadata": {},
   "outputs": [],
   "source": [
    "aktor_tur = aktor.join(df3.set_index(\"movieid\"), on=\"movieid\")\n",
    "\n",
    "aktor_tur.head(10)\n",
    "\n",
    "\n",
    "\n",
    "with open('aktor_tur.txt', 'w', encoding='utf-8') as f:\n",
    "    f.write(str(aktor_tur[\"genre\"]))"
   ]
  },
  {
   "cell_type": "markdown",
   "metadata": {},
   "source": [
    "**Ülkelere göre hangi tür filmler çekilmiş?** \n"
   ]
  },
  {
   "cell_type": "code",
   "execution_count": null,
   "metadata": {},
   "outputs": [],
   "source": [
    "\n",
    "ulke_tur = df2.join(df3.set_index(\"movieid\"), on=\"movieid\")\n",
    "\n",
    "ulke_tur.head(10)\n",
    "ulke_tur = ulke_tur.groupby(\"country\")[\"genre\"].value_counts()\n",
    "ulke_tur\n",
    "\n",
    "\n",
    "\n"
   ]
  },
  {
   "cell_type": "code",
   "execution_count": null,
   "metadata": {},
   "outputs": [],
   "source": [
    "\n",
    "import matplotlib.pyplot as plt\n",
    "\n",
    "secilmis_ulke = ulke_tur.index.get_level_values(\"country\") == \"USA\", \"UK\", \"France\", \"Germany\", \"Italy\", \"Spain\", \"Japan\", \"Turkey\"\n",
    "for ulke in ulke_tur.index.levels[0]:\n",
    "    import warnings\n",
    "    warnings.filterwarnings(\"ignore\")\n",
    "    if ulke in secilmis_ulke: \n",
    "        fig, ax = plt.subplots(figsize=(15, 3));\n",
    "        \n",
    "        ax.set_title(ulke)\n",
    "       \n",
    "        ax.set_ylabel(\"Film Sayısı\")\n",
    "        ulke_tur[ulke].plot(kind=\"bar\", ax=ax, color=\"green\", alpha=0.5, rot=0, width=0.8, edgecolor=\"black\", linewidth=1.2, fontsize=7, grid=True)\n",
    "        ax.set_xlabel(\"Tür\")\n",
    "\n",
    "        x = ulke_tur[ulke].index\n",
    "        y = ulke_tur[ulke].values\n",
    "        ax.scatter(x, y, s=100, color=\"red\", alpha=0.5, edgecolor=\"black\", linewidth=1.2)\n",
    "\n",
    "        plt.savefig('{}.png'.format(ulke), bbox_inches='tight', dpi=600)\n"
   ]
  },
  {
   "cell_type": "markdown",
   "metadata": {},
   "source": [
    "**Türe göre kadın-erkek aktör sayısı**"
   ]
  },
  {
   "cell_type": "markdown",
   "metadata": {},
   "source": []
  },
  {
   "cell_type": "code",
   "execution_count": null,
   "metadata": {},
   "outputs": [],
   "source": [
    "film.columns"
   ]
  },
  {
   "cell_type": "code",
   "execution_count": null,
   "metadata": {},
   "outputs": [],
   "source": [
    "film.head(10)"
   ]
  },
  {
   "cell_type": "code",
   "execution_count": null,
   "metadata": {},
   "outputs": [],
   "source": [
    "def yil_ayir(x):\n",
    "    if x == \"????\":\n",
    "        return np.nan\n",
    "    else:\n",
    "        return int(x)\n",
    "\n",
    "\n",
    "film[\"year\"] = film[\"year\"].apply(yil_ayir)"
   ]
  },
  {
   "cell_type": "code",
   "execution_count": null,
   "metadata": {},
   "outputs": [],
   "source": [
    "print"
   ]
  },
  {
   "cell_type": "code",
   "execution_count": null,
   "metadata": {},
   "outputs": [],
   "source": []
  }
 ],
 "metadata": {
  "kernelspec": {
   "display_name": "Python 3.8.0 64-bit",
   "language": "python",
   "name": "python3"
  },
  "language_info": {
   "codemirror_mode": {
    "name": "ipython",
    "version": 3
   },
   "file_extension": ".py",
   "mimetype": "text/x-python",
   "name": "python",
   "nbconvert_exporter": "python",
   "pygments_lexer": "ipython3",
   "version": "3.8.0"
  },
  "orig_nbformat": 4,
  "vscode": {
   "interpreter": {
    "hash": "134b3e2d4c5b1e4cf3d6094ae6e0c076b790bc68a219857a4b27c49f53a7ee6d"
   }
  }
 },
 "nbformat": 4,
 "nbformat_minor": 2
}
